{
 "cells": [
  {
   "cell_type": "code",
   "execution_count": 29,
   "metadata": {},
   "outputs": [],
   "source": [
    "import requests\n",
    "import io\n",
    "import cv2 as cv\n",
    "from pyzbar.pyzbar import decode\n",
    "from PIL import Image\n",
    "import matplotlib.pyplot as plt"
   ]
  },
  {
   "cell_type": "code",
   "execution_count": 30,
   "metadata": {},
   "outputs": [],
   "source": [
    "url=\"https://chart.googleapis.com/chart?cht=qr&chl=hi%20learncodeonline%0A&chs=180x180&choe=UTF-8&chld=L|2\""
   ]
  },
  {
   "cell_type": "code",
   "execution_count": 31,
   "metadata": {},
   "outputs": [],
   "source": [
    "img=Image.open(io.BytesIO(requests.get(url,stream=True).content)).convert(\"RGB\")\n"
   ]
  },
  {
   "cell_type": "code",
   "execution_count": 32,
   "metadata": {},
   "outputs": [
    {
     "data": {
      "image/png": "[encoded data removed]",
      "text/plain": [
       "<PIL.Image.Image image mode=RGB size=180x180 at 0x23A583C2F28>"
      ]
     },
     "execution_count": 32,
     "metadata": {},
     "output_type": "execute_result"
    }
   ],
   "source": [
    "img"
   ]
  },
  {
   "cell_type": "code",
   "execution_count": 15,
   "metadata": {},
   "outputs": [
    {
     "data": {
      "text/plain": [
       "b'hi learncodeonline'"
      ]
     },
     "execution_count": 15,
     "metadata": {},
     "output_type": "execute_result"
    }
   ],
   "source": [
    "decode(img)[0].data"
   ]
  },
  {
   "cell_type": "code",
   "execution_count": null,
   "metadata": {},
   "outputs": [],
   "source": [
    "import requests\n",
    "import io\n",
    "import cv2 as cv\n",
    "from pyzbar.pyzbar import decode\n",
    "from PIL import Image\n",
    "import matplotlib.pyplot as plt"
   ]
  },
  {
   "cell_type": "code",
   "execution_count": null,
   "metadata": {},
   "outputs": [],
   "source": [
    "def main():\n",
    "    camera=cv.VideoCapture(0)\n",
    "    ret=camera.set(3,320)\n",
    "    while True:\n",
    "        _,frame=camera.read()\n",
    "        frame_g=cv.cvtColor(frame,cv.COLOR_BGR2GRAY)\n",
    "        data=decode(Image.fromarray(frame_g))\n",
    "         \n",
    "        for d in data:\n",
    "             x,y,w,h=d.rect\n",
    "             cv.rectangle(frame,(x,y),(x+w,y+h),(255,240,90),2)\n",
    "             tx,ty=cv.getTextSize(str(d.data.decode(\"utf-8\")),cv.FONT_HERSHEY_COMPLEX,fontScale=1.3,thickness=1)[0]\n",
    "             cv.rectangle(frame,(x,y-ty),(x+tx,y+10),(255,20,90),-1)\n",
    "\n",
    "             cv.putText(frame,str(d.data.decode(\"utf-8\")),(x,y),cv.FONT_HERSHEY_COMPLEX,0.7,(255,255,255),1,cv.LINE_AA)\n",
    "        cv.imshow(\"scanner\",frame)\n",
    "\n",
    "        key=cv.waitKey(10)\n",
    "        if key & 0xff == ord(\"q\"):\n",
    "            cv.destroyAllWindows()\n",
    "            camera.release()\n",
    "            break\n",
    "                    \n",
    "main()                  "
   ]
  },
  {
   "cell_type": "code",
   "execution_count": null,
   "metadata": {},
   "outputs": [],
   "source": []
  }
 ],
 "metadata": {
  "kernelspec": {
   "display_name": "Python 3",
   "language": "python",
   "name": "python3"
  },
  "language_info": {
   "codemirror_mode": {
    "name": "ipython",
    "version": 3
   },
   "file_extension": ".py",
   "mimetype": "text/x-python",
   "name": "python",
   "nbconvert_exporter": "python",
   "pygments_lexer": "ipython3",
   "version": "3.7.3"
  }
 },
 "nbformat": 4,
 "nbformat_minor": 2
}
